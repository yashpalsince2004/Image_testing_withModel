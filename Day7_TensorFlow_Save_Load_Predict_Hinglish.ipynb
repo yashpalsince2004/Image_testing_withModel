{
 "cells": [
  {
   "cell_type": "markdown",
   "metadata": {},
   "source": [
    "# 💾 Day 7: Model Save, Load & Predict with Real Image (Hinglish)\n",
    "Aaj hum dekhenge kaise trained model ko save/load karte hain aur ek real image pe prediction karte hain."
   ]
  },
  {
   "cell_type": "markdown",
   "metadata": {},
   "source": [
    "## 📥 Model Save Karna (.h5 format)\n",
    "- Model architecture + weights + optimizer sab kuch save hota hai"
   ]
  },
  {
   "cell_type": "code",
   "execution_count": null,
   "metadata": {},
   "outputs": [],
   "source": [
    "model.save(\"mnist_cnn_model.h5\")  # Save model to file"
   ]
  },
  {
   "cell_type": "markdown",
   "metadata": {},
   "source": [
    "## 📤 Model Load Karna\n",
    "- Bina retrain kiye model ko use kar sakte hain"
   ]
  },
  {
   "cell_type": "code",
   "execution_count": null,
   "metadata": {},
   "outputs": [],
   "source": [
    "from tensorflow.keras.models import load_model\n",
    "\n",
    "model = load_model(\"mnist_cnn_model.h5\")  # Load model from file"
   ]
  },
  {
   "cell_type": "markdown",
   "metadata": {},
   "source": [
    "## 🧪 Predict Real Image (from file)\n",
    "- Image should be 28x28 pixels\n",
    "- Grayscale and normalized\n",
    "- Black digit on white background"
   ]
  },
  {
   "cell_type": "code",
   "execution_count": null,
   "metadata": {},
   "outputs": [],
   "source": [
    "import cv2\n",
    "import numpy as np\n",
    "import matplotlib.pyplot as plt\n",
    "\n",
    "# Load real image (replace with actual image path)\n",
    "img = cv2.imread(\"your_digit.png\", cv2.IMREAD_GRAYSCALE)  # grayscale\n",
    "img = cv2.resize(img, (28, 28))  # resize to 28x28\n",
    "img = 255 - img  # invert: white background, black digit\n",
    "img = img / 255.0  # normalize\n",
    "img = img.reshape(1, 28, 28, 1)\n",
    "\n",
    "# Predict\n",
    "pred = model.predict(img)\n",
    "predicted_digit = np.argmax(pred)\n",
    "print(\"Predicted Digit:\", predicted_digit)\n",
    "\n",
    "# Show image\n",
    "plt.imshow(img.reshape(28, 28), cmap='gray')\n",
    "plt.title(f\"Predicted: {predicted_digit}\")\n",
    "plt.axis('off')\n",
    "plt.show()"
   ]
  },
  {
   "cell_type": "markdown",
   "id": "18ebe421",
   "metadata": {},
   "source": [
    "## Visualization\n"
   ]
  },
  {
   "cell_type": "code",
   "execution_count": null,
   "id": "b23a8a98",
   "metadata": {},
   "outputs": [],
   "source": [
    "import cv2\n",
    "import numpy as np\n",
    "import matplotlib.pyplot as plt\n",
    "from tensorflow.keras.models import load_model\n",
    "\n",
    "# ✅ Load trained model\n",
    "model = load_model(\"mnist_cnn_model.h5\")\n",
    "\n",
    "# ✅ Load and preprocess the input image\n",
    "img = cv2.imread(\"Day7_image_testing.png\", cv2.IMREAD_GRAYSCALE)\n",
    "img_resized = cv2.resize(img, (28, 28))  # Resize to MNIST size\n",
    "img_inverted = 255 - img_resized         # Invert: black digit on white\n",
    "img_norm = img_inverted / 255.0          # Normalize 0–1\n",
    "img_input = img_norm.reshape(1, 28, 28, 1)  # Reshape for model\n",
    "\n",
    "# ✅ Predict\n",
    "pred = model.predict(img_input)\n",
    "predicted_digit = np.argmax(pred)\n",
    "confidence = np.max(pred)\n",
    "\n",
    "# ✅ Visualization using matplotlib\n",
    "plt.figure(figsize=(4, 4))\n",
    "plt.imshow(img_resized, cmap='gray')\n",
    "plt.title(f\"Predicted Digit: {predicted_digit} (Confidence: {confidence:.2f})\")\n",
    "plt.axis('off')\n",
    "plt.show()\n"
   ]
  }
 ],
 "metadata": {
  "kernelspec": {
   "display_name": "Python 3",
   "language": "python",
   "name": "python3"
  },
  "language_info": {
   "name": "python",
   "version": "3.x"
  }
 },
 "nbformat": 4,
 "nbformat_minor": 5
}
